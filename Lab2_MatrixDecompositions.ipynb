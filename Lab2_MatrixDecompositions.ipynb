{
 "cells": [
  {
   "cell_type": "markdown",
   "id": "0f649441",
   "metadata": {},
   "source": [
    "# Linear Algebra Review: Matrix Decompositions\n",
    "\n",
    "Content from- An Introduction to Linear Algebra by Strang"
   ]
  },
  {
   "cell_type": "code",
   "execution_count": 15,
   "id": "e9ed408d",
   "metadata": {},
   "outputs": [
    {
     "name": "stdout",
     "output_type": "stream",
     "text": [
      "Requirement already satisfied: numpy in /Users/natemankovich/miniconda3/envs/flags3/lib/python3.11/site-packages (1.25.2)\n",
      "Requirement already satisfied: matplotlib in /Users/natemankovich/miniconda3/envs/flags3/lib/python3.11/site-packages (3.9.2)\n",
      "Requirement already satisfied: contourpy>=1.0.1 in /Users/natemankovich/miniconda3/envs/flags3/lib/python3.11/site-packages (from matplotlib) (1.2.0)\n",
      "Requirement already satisfied: cycler>=0.10 in /Users/natemankovich/miniconda3/envs/flags3/lib/python3.11/site-packages (from matplotlib) (0.12.1)\n",
      "Requirement already satisfied: fonttools>=4.22.0 in /Users/natemankovich/miniconda3/envs/flags3/lib/python3.11/site-packages (from matplotlib) (4.51.0)\n",
      "Requirement already satisfied: kiwisolver>=1.3.1 in /Users/natemankovich/miniconda3/envs/flags3/lib/python3.11/site-packages (from matplotlib) (1.4.4)\n",
      "Requirement already satisfied: numpy>=1.23 in /Users/natemankovich/miniconda3/envs/flags3/lib/python3.11/site-packages (from matplotlib) (1.25.2)\n",
      "Requirement already satisfied: packaging>=20.0 in /Users/natemankovich/miniconda3/envs/flags3/lib/python3.11/site-packages (from matplotlib) (24.1)\n",
      "Requirement already satisfied: pillow>=8 in /Users/natemankovich/miniconda3/envs/flags3/lib/python3.11/site-packages (from matplotlib) (10.4.0)\n",
      "Requirement already satisfied: pyparsing>=2.3.1 in /Users/natemankovich/miniconda3/envs/flags3/lib/python3.11/site-packages (from matplotlib) (3.1.4)\n",
      "Requirement already satisfied: python-dateutil>=2.7 in /Users/natemankovich/miniconda3/envs/flags3/lib/python3.11/site-packages (from matplotlib) (2.9.0)\n",
      "Requirement already satisfied: six>=1.5 in /Users/natemankovich/miniconda3/envs/flags3/lib/python3.11/site-packages (from python-dateutil>=2.7->matplotlib) (1.16.0)\n"
     ]
    }
   ],
   "source": [
    "!pip install numpy\n",
    "!pip install matplotlib"
   ]
  },
  {
   "cell_type": "code",
   "execution_count": 1,
   "id": "f60b3d8d",
   "metadata": {},
   "outputs": [],
   "source": [
    "# imports\n",
    "import numpy as np\n",
    "from matplotlib import pyplot as plt"
   ]
  },
  {
   "cell_type": "markdown",
   "id": "49121d8d",
   "metadata": {},
   "source": [
    "# Matrix Decompositions\n",
    "\n",
    "* Singular Value Decomposition \n",
    "* Eigenvalue Decomposition"
   ]
  },
  {
   "cell_type": "markdown",
   "id": "03f85bbe",
   "metadata": {},
   "source": [
    "### Singular Value Decomposition (SVD)\n",
    "\n",
    "Singular Value Decomposition (SVD) is a matrix factorization technique that decomposes a matrix $\\mathbf{A}$ into three components:\n",
    "\n",
    "$$\n",
    "\\mathbf{A} = \\mathbf{U} \\mathbf{\\Sigma} \\mathbf{V}^\\top\n",
    "$$\n",
    "\n",
    "- $\\mathbf{U}$: An orthogonal matrix whose columns are the left singular vectors of $\\mathbf{A}$.\n",
    "- $\\mathbf{\\Sigma}$: A diagonal matrix containing the singular values of $\\mathbf{A}$, which represent the magnitude of the principal components.\n",
    "- $\\mathbf{V}^\\top$: The transpose of an orthogonal matrix whose rows are the right singular vectors of $\\mathbf{A}$.\n",
    "\n",
    "SVD is widely used in applications such as dimensionality reduction, image compression, and solving linear systems. It provides insights into the structure of a matrix, including its rank, range, and null space.\n"
   ]
  },
  {
   "cell_type": "code",
   "execution_count": null,
   "id": "43aa74ed",
   "metadata": {},
   "outputs": [
    {
     "name": "stdout",
     "output_type": "stream",
     "text": [
      "left singular vectors\n",
      "[[-0.50036001  0.81016633  0.02712401]\n",
      " [ 0.67825034  0.58511381  0.0122313 ]\n",
      " [-0.15720176 -0.00625417 -0.33752507]\n",
      " [-0.44063102  0.00395616 -0.40436489]\n",
      " [ 0.26598543  0.03489376 -0.84951783]]\n",
      "singular values\n",
      "[2.94246033 1.84299825 1.18379349]\n",
      "right singular vectors\n",
      "[[-4.         -3.11111111 -2.22222222 -1.33333333 -0.44444444  0.44444444\n",
      "   1.33333333  2.22222222  3.11111111  4.        ]\n",
      " [-4.         -3.11111111 -2.22222222 -1.33333333 -0.44444444  0.44444444\n",
      "   1.33333333  2.22222222  3.11111111  4.        ]\n",
      " [-4.         -3.11111111 -2.22222222 -1.33333333 -0.44444444  0.44444444\n",
      "   1.33333333  2.22222222  3.11111111  4.        ]\n",
      " [-4.         -3.11111111 -2.22222222 -1.33333333 -0.44444444  0.44444444\n",
      "   1.33333333  2.22222222  3.11111111  4.        ]\n",
      " [-4.         -3.11111111 -2.22222222 -1.33333333 -0.44444444  0.44444444\n",
      "   1.33333333  2.22222222  3.11111111  4.        ]\n",
      " [-4.         -3.11111111 -2.22222222 -1.33333333 -0.44444444  0.44444444\n",
      "   1.33333333  2.22222222  3.11111111  4.        ]\n",
      " [-4.         -3.11111111 -2.22222222 -1.33333333 -0.44444444  0.44444444\n",
      "   1.33333333  2.22222222  3.11111111  4.        ]\n",
      " [-4.         -3.11111111 -2.22222222 -1.33333333 -0.44444444  0.44444444\n",
      "   1.33333333  2.22222222  3.11111111  4.        ]\n",
      " [-4.         -3.11111111 -2.22222222 -1.33333333 -0.44444444  0.44444444\n",
      "   1.33333333  2.22222222  3.11111111  4.        ]\n",
      " [-4.         -3.11111111 -2.22222222 -1.33333333 -0.44444444  0.44444444\n",
      "   1.33333333  2.22222222  3.11111111  4.        ]]\n"
     ]
    }
   ],
   "source": [
    "# Random 2D data\n",
    "A = np.random.randn(5, 3)\n",
    "\n",
    "# SVD\n",
    "U, S, VT = np.linalg.svd(A, full_matrices=False)\n",
    "\n",
    "print('left singular vectors')\n",
    "print(U)\n",
    "print('singular values')\n",
    "print(S)\n",
    "print('right singular vectors')\n",
    "print(VT.T)"
   ]
  },
  {
   "cell_type": "code",
   "execution_count": 12,
   "id": "2d1b4268",
   "metadata": {},
   "outputs": [
    {
     "name": "stdout",
     "output_type": "stream",
     "text": [
      "Original matrix A:\n",
      "[[-1.07575305  0.8402602   1.59211747]\n",
      " [ 2.09580291  0.85844867  0.12911692]\n",
      " [-0.54755928  0.25457938 -0.09545113]\n",
      " [-1.34951462  0.25939784  0.14740845]\n",
      " [ 0.47037477  0.85811773 -0.81877958]]\n",
      "Low-rank approximation of A (k=2):\n",
      "[[-1.08463278  0.864306    1.57277962]\n",
      " [ 2.09179869  0.86929188  0.12039672]\n",
      " [-0.43706194 -0.04464113  0.1451847 ]\n",
      " [-1.21713557 -0.09907707  0.4356972 ]\n",
      " [ 0.74848585  0.10500875 -0.21312257]]\n"
     ]
    },
    {
     "data": {
      "image/png": "[encoded data removed]",
      "text/plain": [
       "<Figure size 1000x500 with 2 Axes>"
      ]
     },
     "metadata": {},
     "output_type": "display_data"
    }
   ],
   "source": [
    "#Low-rank approximation\n",
    "k = 2\n",
    "A_k = U[:, :k] @ np.diag(S[:k]) @ VT[:k, :]\n",
    "print(f\"Original matrix A:\\n{A}\")\n",
    "print(f\"Low-rank approximation of A (k={k}):\\n{A_k}\")\n",
    "# Visualize the original and low-rank approximation\n",
    "plt.figure(figsize=(10, 5))\n",
    "plt.subplot(1, 2, 1)\n",
    "plt.scatter(A[:, 0], A[:, 1], color='blue', label='Original Data')\n",
    "plt.title('Original Data')\n",
    "plt.xlabel('X-axis')\n",
    "plt.ylabel('Y-axis')\n",
    "plt.subplot(1, 2, 2)\n",
    "plt.scatter(A_k[:, 0], A_k[:, 1], color='red', label='Low-rank Approximation')\n",
    "plt.title(f'Low-rank Approximation (k={k})')\n",
    "plt.xlabel('X-axis')\n",
    "plt.ylabel('Y-axis')\n",
    "plt.legend()\n",
    "plt.show()"
   ]
  },
  {
   "cell_type": "markdown",
   "id": "9be49830",
   "metadata": {},
   "source": [
    "### Deriving Eigenvalue Decomposition from SVD\n",
    "\n",
    "The Singular Value Decomposition (SVD) of a matrix $\\mathbf{A}$ is given by:\n",
    "\n",
    "$$\n",
    "\\mathbf{A} = \\mathbf{U} \\mathbf{\\Sigma} \\mathbf{V}^\\top\n",
    "$$\n",
    "\n",
    "where:\n",
    "- $\\mathbf{U}$ is an orthogonal matrix ($\\mathbf{U}^\\top \\mathbf{U} = \\mathbf{I}$),\n",
    "- $\\mathbf{\\Sigma}$ is a diagonal matrix containing the singular values of $\\mathbf{A}$,\n",
    "- $\\mathbf{V}$ is an orthogonal matrix ($\\mathbf{V}^\\top \\mathbf{V} = \\mathbf{I}$).\n",
    "\n",
    "#### Eigenvalue Decomposition of $\\mathbf{C} = \\mathbf{A}^\\top \\mathbf{A}$\n",
    "1. Compute $\\mathbf{A}^\\top \\mathbf{A}$:\n",
    "    $$\n",
    "    \\mathbf{A}^\\top \\mathbf{A} = (\\mathbf{U} \\mathbf{\\Sigma} \\mathbf{V}^\\top)^\\top (\\mathbf{U} \\mathbf{\\Sigma} \\mathbf{V}^\\top)\n",
    "    $$\n",
    "\n",
    "2. Simplify using properties of orthogonal matrices:\n",
    "    $$\n",
    "    \\mathbf{A}^\\top \\mathbf{A} = \\mathbf{V} \\mathbf{\\Sigma}^\\top \\mathbf{U}^\\top \\mathbf{U} \\mathbf{\\Sigma} \\mathbf{V}^\\top\n",
    "    $$\n",
    "\n",
    "    Since $\\mathbf{U}^\\top \\mathbf{U} = \\mathbf{I}$:\n",
    "    $$\n",
    "    \\mathbf{A}^\\top \\mathbf{A} = \\mathbf{V} \\mathbf{\\Sigma}^\\top \\mathbf{\\Sigma} \\mathbf{V}^\\top\n",
    "    $$\n",
    "\n",
    "3. Observe that $\\mathbf{\\Sigma}^\\top \\mathbf{\\Sigma}$ is a diagonal matrix containing the squared singular values of $\\mathbf{A}$. Let $\\mathbf{\\Lambda} = \\mathbf{\\Sigma}^\\top \\mathbf{\\Sigma}$:\n",
    "    $$\n",
    "    \\mathbf{C}= \\mathbf{A}^\\top \\mathbf{A} = \\mathbf{V} \\mathbf{\\Lambda} \\mathbf{V}^\\top\n",
    "    $$\n",
    "\n",
    "    This is the eigenvalue decomposition of $\\mathbf{A}^\\top \\mathbf{A}$, where:\n",
    "    - $\\mathbf{V}$ contains the eigenvectors of $\\mathbf{A}^\\top \\mathbf{A}$,\n",
    "    - $\\mathbf{\\Lambda}$ contains the eigenvalues of $\\mathbf{A}^\\top \\mathbf{A}$."
   ]
  },
  {
   "cell_type": "code",
   "execution_count": 13,
   "id": "4c444594",
   "metadata": {},
   "outputs": [
    {
     "name": "stdout",
     "output_type": "stream",
     "text": [
      "Matrix:\n",
      "[[ 7.89189774  0.80940521 -1.97391956]\n",
      " [ 0.80940521  2.31143525  0.75996147]\n",
      " [-1.97391956  0.75996147  3.25274939]]\n",
      "\n",
      "Eigenvalues:\n",
      "[8.65807279 1.40136702 3.39664257]\n",
      "\n",
      "Eigenvectors:\n",
      "[[-0.93988386 -0.27654758  0.20034914]\n",
      " [-0.08011603  0.74887508  0.6578507 ]\n",
      " [ 0.33196349 -0.60225207  0.72601149]]\n"
     ]
    }
   ],
   "source": [
    "\n",
    "\n",
    "\n",
    "# Perform eigenvalue decomposition\n",
    "eigenvalues, eigenvectors = np.linalg.eig(A.T @ A)\n",
    "\n",
    "# Print the results\n",
    "print(\"Matrix:\")\n",
    "print(A.T @ A)\n",
    "print(\"\\nEigenvalues:\")\n",
    "print(eigenvalues)\n",
    "print(\"\\nEigenvectors:\")\n",
    "print(eigenvectors)\n",
    "\n"
   ]
  },
  {
   "cell_type": "markdown",
   "id": "6fb0cf40",
   "metadata": {},
   "source": [
    "##### Eigenvalue Decomposition \\& Optimization\n",
    "\n",
    "Eigenvalue decomposition as an iterative optimization. The $i$th eigenvector is the minimizer of\n",
    "$$\n",
    "\\lambda_i = \\max_{\\mathbf{v}^\\top \\mathbf{v}_{j}=0 \\: \\: \\forall j < i} \\frac{\\mathbf{v}^\\top \\mathbf{C} \\mathbf{v}}{\\mathbf{v}^\\top \\mathbf{v}}\n",
    "$$\n",
    "\n",
    "Eigenvalue decomposition as an optimization with orthogonality constraints:\n",
    "$$\n",
    "\\mathbf{V} = \\argmax_{\\mathbf{W}^\\top \\mathbf{W} = \\mathbf{I}} \\mathrm{tr}(\\mathbf{W}^\\top \\mathbf{C} \\mathbf{W})\n",
    "$$\n",
    "\n",
    "$$\n",
    "\\mathrm{tr}(\\boldsymbol{\\Lambda}) = \\max_{\\mathbf{W}^\\top \\mathbf{W} = \\mathbf{I}} \\mathrm{tr}(\\mathbf{W}^\\top \\mathbf{C} \\mathbf{W})\n",
    "$$\n",
    "\n",
    "Using $\\mathbf{M} = \\mathbf{A}^\\top \\mathbf{A}$, we have the new objective\n",
    "\n",
    "$$\n",
    "\\mathbf{V} = \\argmin_{\\mathbf{W}^\\top \\mathbf{W} = \\mathbf{I}} \\| \\mathbf{A} - \\mathbf{A} \\mathbf{W} \\mathbf{W}^\\top\\|_F^2\n",
    "$$\n",
    "\n",
    "\n",
    "\n",
    "\n"
   ]
  },
  {
   "cell_type": "markdown",
   "id": "47c20108",
   "metadata": {},
   "source": [
    "### Generalized Eigenvalue Decomposition\n",
    "\n",
    "Recall the eigenvalue decomposition outputs eigenvectors $\\mathbf{v}$ and eigenvalues $\\lambda$ that solve $ \\mathbf{C} \\mathbf{v} = \\lambda \\mathbf{v}$. \n",
    "\n",
    "The generalized eigenvalue decomposition uses two square matrices $\\mathbf{C}_A, \\mathbf{C}_B$:\n",
    "$$\n",
    "\\mathbf{C}_A \\mathbf{w} = \\lambda \\mathbf{C}_B \\mathbf{w}\n",
    "$$\n",
    "\n",
    "**Optimization**\n",
    "$$\n",
    "\\lambda_i = \\max_{\\mathbf{w}^\\top \\mathbf{w}_{j}=0 \\: \\: \\forall j < i} \\frac{\\mathbf{w}^\\top \\mathbf{C}_A \\mathbf{w}}{\\mathbf{w}^\\top \\mathbf{C}_B \\mathbf{w}}\n",
    "$$\n",
    "\n",
    "\n",
    "**Approximation**\n",
    "Eigenvalue decomposition of $\\mathbf{C}_B^{-1} \\mathbf{C}_A$.\n",
    "\n",
    "*CAUTION* need to compute a matrix inverse.\n",
    "\n",
    "One way is pseudoinverse \n",
    "1. Compute SVD $\\mathbf{C}_B = \\mathbf{U} \\boldsymbol{\\Sigma} \\mathbf{V}^\\top$\n",
    "2. Compute pseudoiverse $\\mathbf{C}_B^{-1} \\approx  \\mathbf{C}_B^\\dagger = \\mathbf{V} \\boldsymbol{\\Sigma}^{-1} \\mathbf{U}^\\top$.\n",
    "\n",
    "*Condition number* $\\kappa(\\mathbf{C}_B) = \\sigma_{\\mathrm{max}}/\\sigma_{\\mathrm{min}}$. If big, psudoinverse is unstable.\n",
    "\n",
    "**Further Reading**\n",
    "\n",
    "A resource for using SVD to find generalized eigenvalue decomposition: https://www.cis.rit.edu/~rlepci/Erho/Derek/Useful_References/Linear%20Discriminant%20Analysis/Melzer_simul_diag.pdf"
   ]
  },
  {
   "cell_type": "code",
   "execution_count": 14,
   "id": "cb657e68",
   "metadata": {},
   "outputs": [
    {
     "name": "stdout",
     "output_type": "stream",
     "text": [
      "Condition number of C_B: 2.783611624891225\n",
      "Generalized Eigenvalues:\n",
      "[1.63060194 1.22654092]\n",
      "\n",
      "Generalized Eigenvectors:\n",
      "[[ 0.57735027 -0.57735027]\n",
      " [ 0.81649658  0.81649658]]\n"
     ]
    }
   ],
   "source": [
    "# Define two symmetric matrices C_A and C_B\n",
    "C_A = np.array([[6, 2], [2, 3]])\n",
    "C_B = np.array([[4, 1], [1, 2]])\n",
    "\n",
    "# Check the condition number of C_B\n",
    "cond_number = np.linalg.cond(C_B)\n",
    "print(f\"Condition number of C_B: {cond_number}\")\n",
    "\n",
    "# Ensure C_B is well-conditioned before inverting\n",
    "if cond_number > 1e10:\n",
    "    raise ValueError(\"Matrix C_B is poorly conditioned and may lead to numerical instability.\")\n",
    "\n",
    "# Perform generalized eigenvalue decomposition\n",
    "eigenvalues, eigenvectors = np.linalg.eig(np.linalg.pinv(C_B) @ C_A)\n",
    "\n",
    "# Print the results\n",
    "print(\"Generalized Eigenvalues:\")\n",
    "print(eigenvalues)\n",
    "print(\"\\nGeneralized Eigenvectors:\")\n",
    "print(eigenvectors)"
   ]
  }
 ],
 "metadata": {
  "kernelspec": {
   "display_name": "base",
   "language": "python",
   "name": "python3"
  },
  "language_info": {
   "codemirror_mode": {
    "name": "ipython",
    "version": 3
   },
   "file_extension": ".py",
   "mimetype": "text/x-python",
   "name": "python",
   "nbconvert_exporter": "python",
   "pygments_lexer": "ipython3",
   "version": "3.11.7"
  }
 },
 "nbformat": 4,
 "nbformat_minor": 5
}
